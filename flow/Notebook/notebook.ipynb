{
 "cells": [
  {
   "cell_type": "markdown",
   "id": "26c9e4c4",
   "metadata": {},
   "source": [
    "# 1. dummy time_embedding "
   ]
  },
  {
   "cell_type": "code",
   "execution_count": null,
   "id": "8ccad48e",
   "metadata": {},
   "outputs": [
    {
     "data": {
      "text/plain": [
       "tensor([[-1.0657, -0.2787, -1.2110,  ...,  0.5981, -0.5768, -0.5393],\n",
       "        [ 1.1917, -0.1065,  1.9694,  ..., -0.1435, -1.1355, -0.3291]])"
      ]
     },
     "execution_count": 1,
     "metadata": {},
     "output_type": "execute_result"
    }
   ],
   "source": [
    "import torch \n",
    "\n",
    "\n",
    "# (batch_size, tembedding_channels)\n",
    "temb = torch.randn(2, 512)\n",
    "temb"
   ]
  },
  {
   "cell_type": "code",
   "execution_count": 1,
   "id": "23f46e87",
   "metadata": {},
   "outputs": [
    {
     "data": {
      "text/plain": [
       "(1, 1, 1, 1, 1, 1)"
      ]
     },
     "execution_count": 1,
     "metadata": {},
     "output_type": "execute_result"
    }
   ],
   "source": [
    "(1,) * 6"
   ]
  },
  {
   "cell_type": "markdown",
   "id": "756c5f08",
   "metadata": {},
   "source": [
    "# 2. AdaGroupNorm\n",
    "\n",
    "`for - images`"
   ]
  },
  {
   "cell_type": "code",
   "execution_count": 17,
   "id": "bf18cb1a",
   "metadata": {},
   "outputs": [
    {
     "name": "stdout",
     "output_type": "stream",
     "text": [
      "AdaGroupNorm(\n",
      "  (linear): Linear(in_features=6, out_features=12, bias=True)\n",
      ")\n"
     ]
    },
    {
     "data": {
      "text/plain": [
       "torch.Size([2, 6, 64, 64])"
      ]
     },
     "execution_count": 17,
     "metadata": {},
     "output_type": "execute_result"
    }
   ],
   "source": [
    "from diffusers.models.normalization import AdaGroupNorm\n",
    "import torch \n",
    "\n",
    "# in_channels = 3\n",
    "out_channels = 6\n",
    "temb_channels = 6\n",
    "\n",
    "x = torch.randn(2, out_channels,  64, 64)\n",
    "temb = torch.randn(2, temb_channels)\n",
    "\n",
    "\n",
    "\n",
    "\n",
    "ada_group_normalization = AdaGroupNorm(embedding_dim=temb_channels,   # make sure in `embedding_dim` to put the `time_embedding` that is 256 in here.\n",
    "                                       out_dim=out_channels,\n",
    "                                       num_groups=2,\n",
    "                                       eps=1e-6)\n",
    "\n",
    "print(ada_group_normalization)\n",
    "\n",
    "ada_group_normalization = ada_group_normalization(x, temb)\n",
    "ada_group_normalization.shape"
   ]
  },
  {
   "cell_type": "markdown",
   "id": "23f5889f",
   "metadata": {},
   "source": [
    "`for - video`"
   ]
  },
  {
   "cell_type": "code",
   "execution_count": 2,
   "id": "01205bea",
   "metadata": {},
   "outputs": [
    {
     "name": "stdout",
     "output_type": "stream",
     "text": [
      "AdaGroupNorm(\n",
      "  (linear): Linear(in_features=8, out_features=128, bias=True)\n",
      ")\n",
      "what is the shape of row data: torch.Size([16, 64, 64, 64]) and what is the shape of scale: torch.Size([16, 64, 1, 1]) and what is the shape of shift: torch.Size([16, 64, 1, 1])\n"
     ]
    },
    {
     "data": {
      "text/plain": [
       "torch.Size([16, 64, 64, 64])"
      ]
     },
     "execution_count": 2,
     "metadata": {},
     "output_type": "execute_result"
    }
   ],
   "source": [
    "from diffusers.models.normalization import AdaGroupNorm\n",
    "import torch \n",
    "\n",
    "in_channels = 3\n",
    "out_channels = 64\n",
    "temb_channels = 8\n",
    "batch_size = 2\n",
    "frame = 8 \n",
    "\n",
    "batch_frame = batch_size * frame\n",
    "\n",
    "# video_x = torch.randn(batch_size, out_channels, frame,  64, 64)\n",
    "image_x = torch.randn(batch_frame, out_channels, 64, 64) # so the total image = 2 * 8 => 16 images\n",
    "temb = torch.randn(batch_frame, temb_channels)\n",
    "\n",
    "\n",
    "\n",
    "\n",
    "ada_group_normalization = AdaGroupNorm(embedding_dim=temb_channels,   # make sure in `embedding_dim` to put the `time_embedding` that is 256 in here.\n",
    "                                       out_dim=out_channels,\n",
    "                                       num_groups=batch_size,\n",
    "                                       eps=1e-6)\n",
    "\n",
    "print(ada_group_normalization)\n",
    "\n",
    "ada_group_normalization = ada_group_normalization(image_x, temb)\n",
    "ada_group_normalization.shape"
   ]
  },
  {
   "cell_type": "markdown",
   "id": "93e6d1a1",
   "metadata": {},
   "source": [
    "# 3. SpatialNorm"
   ]
  },
  {
   "cell_type": "code",
   "execution_count": null,
   "id": "f673eb42",
   "metadata": {},
   "outputs": [],
   "source": [
    "import torch \n",
    "from torch import nn \n",
    "from torch.nn import functional as F \n",
    "\n",
    "class SpatialNorm(nn.Module):\n",
    "    \"\"\"\n",
    "    Spatially conditioned normalization as defined in https://arxiv.org/abs/2209.09002.\n",
    "\n",
    "    Args:\n",
    "        f_channels (`int`):\n",
    "            The number of channels for input to group normalization layer, and output of the spatial norm layer.\n",
    "        zq_channels (`int`):\n",
    "            The number of channels for the quantized vector as described in the paper.\n",
    "    \"\"\"\n",
    "\n",
    "    def __init__(\n",
    "        self,\n",
    "        f_channels: int,\n",
    "        zq_channels: int,\n",
    "    ):\n",
    "        super().__init__()\n",
    "        self.norm_layer = nn.GroupNorm(num_channels=f_channels, num_groups=32, eps=1e-6, affine=True)\n",
    "        self.conv_y = nn.Conv2d(zq_channels, f_channels, kernel_size=1, stride=1, padding=0)\n",
    "        self.conv_b = nn.Conv2d(zq_channels, f_channels, kernel_size=1, stride=1, padding=0)\n",
    "\n",
    "    def forward(self, f: torch.Tensor, zq: torch.Tensor) -> torch.Tensor:\n",
    "        f_size = f.shape[-2:] \n",
    "        zq = F.interpolate(zq, size=f_size, mode=\"nearest\")\n",
    "        norm_f = self.norm_layer(f)\n",
    "        new_f = norm_f * self.conv_y(zq) + self.conv_b(zq)\n",
    "        return new_f"
   ]
  },
  {
   "cell_type": "code",
   "execution_count": 4,
   "id": "021a094f",
   "metadata": {},
   "outputs": [
    {
     "name": "stdout",
     "output_type": "stream",
     "text": [
      "SpatialNorm(\n",
      "  (norm_layer): GroupNorm(32, 128, eps=1e-06, affine=True)\n",
      "  (conv_y): Conv2d(16, 128, kernel_size=(1, 1), stride=(1, 1))\n",
      "  (conv_b): Conv2d(16, 128, kernel_size=(1, 1), stride=(1, 1))\n",
      ")\n",
      "what is the shape of f : torch.Size([2, 128, 64, 64]) and zq: torch.Size([2, 16, 8, 8])\n"
     ]
    },
    {
     "data": {
      "text/plain": [
       "torch.Size([2, 128, 64, 64])"
      ]
     },
     "execution_count": 4,
     "metadata": {},
     "output_type": "execute_result"
    }
   ],
   "source": [
    "\n",
    "\n",
    "\n",
    "num_channels = 64\n",
    "zq_channels = 8\n",
    "\n",
    "spatial_norm = SpatialNorm(f_channels=128,\n",
    "                           zq_channels=16)\n",
    "\n",
    "print(spatial_norm)\n",
    "\n",
    "# feature map \n",
    "x = torch.randn(2, 128, 64, 64)\n",
    "# quantized vector \n",
    "z = torch.randn(2, 16, 8, 8)\n",
    "\n",
    "spatial_norm = spatial_norm(x, z)\n",
    "spatial_norm.shape\n",
    "\n",
    "\n",
    "\n"
   ]
  },
  {
   "cell_type": "markdown",
   "id": "280eea31",
   "metadata": {},
   "source": [
    "# 4. torch.interpolate()"
   ]
  },
  {
   "cell_type": "markdown",
   "id": "e70a0bfe",
   "metadata": {},
   "source": [
    "#### `mode: 'nearest'`"
   ]
  },
  {
   "cell_type": "code",
   "execution_count": 16,
   "id": "58fe52a6",
   "metadata": {},
   "outputs": [
    {
     "data": {
      "text/plain": [
       "torch.Size([32, 3, 1024, 1024])"
      ]
     },
     "execution_count": 16,
     "metadata": {},
     "output_type": "execute_result"
    }
   ],
   "source": [
    "import torch\n",
    "import torch.nn.functional as F\n",
    "\n",
    "# x = torch.rand(1, 1, 2, 2)\n",
    "x = torch.rand(32, 3, 256, 256)\n",
    "\n",
    "nearest_interpolate = F.interpolate(x, \n",
    "                                #  size=(64, 64),\n",
    "                                scale_factor=(4, 4),\n",
    "                                 mode='nearest')\n",
    "nearest_interpolate.shape\n"
   ]
  },
  {
   "cell_type": "markdown",
   "id": "ea65704c",
   "metadata": {},
   "source": [
    "#### `mode: 'Linear'`"
   ]
  },
  {
   "cell_type": "code",
   "execution_count": 39,
   "id": "35fafaea",
   "metadata": {},
   "outputs": [
    {
     "data": {
      "text/plain": [
       "torch.Size([32, 3, 8])"
      ]
     },
     "execution_count": 39,
     "metadata": {},
     "output_type": "execute_result"
    }
   ],
   "source": [
    "# batch_size = 32, channels=3, length=4\n",
    "x_linear = torch.randn(32, 3, 4)\n",
    "\n",
    "\n",
    "\n",
    "\n",
    "linear_interpolate = F.interpolate(x_linear,\n",
    "                                   size=8,\n",
    "                                   mode='linear',\n",
    "                                   align_corners=False  # a/c to pytorch library\n",
    "                                   )\n",
    "\n",
    "linear_interpolate.shape\n",
    "\n"
   ]
  },
  {
   "cell_type": "markdown",
   "id": "d6a319f7",
   "metadata": {},
   "source": [
    "#### `mode: 'BiLinear'`"
   ]
  },
  {
   "cell_type": "code",
   "execution_count": 43,
   "id": "67bac6f0",
   "metadata": {},
   "outputs": [
    {
     "data": {
      "text/plain": [
       "torch.Size([32, 3, 64, 64])"
      ]
     },
     "execution_count": 43,
     "metadata": {},
     "output_type": "execute_result"
    }
   ],
   "source": [
    "\n",
    "bilinear_interpolate = F.interpolate(x,\n",
    "                                     size=(64, 64),\n",
    "                                     mode='bilinear')\n",
    "bilinear_interpolate.shape"
   ]
  },
  {
   "cell_type": "markdown",
   "id": "9fea34d7",
   "metadata": {},
   "source": [
    "# 5. conv 3d"
   ]
  },
  {
   "cell_type": "code",
   "execution_count": 3,
   "id": "fa48f8aa",
   "metadata": {},
   "outputs": [
    {
     "name": "stdout",
     "output_type": "stream",
     "text": [
      "Neural_Network(\n",
      "  (norm1): GroupNorm(2, 16, eps=1e-06, affine=True)\n",
      "  (conv1): Conv3d(16, 16, kernel_size=(3, 3, 3), stride=(1, 1, 1), padding=(1, 1, 1))\n",
      ")\n"
     ]
    },
    {
     "data": {
      "text/plain": [
       "torch.Size([2, 16, 8, 256, 256])"
      ]
     },
     "execution_count": 3,
     "metadata": {},
     "output_type": "execute_result"
    }
   ],
   "source": [
    "import torch \n",
    "from torch import nn \n",
    "from typing import Optional, Tuple, Union\n",
    "\n",
    "class Neural_Network(nn.Module):\n",
    "\n",
    "    def __init__(self,\n",
    "                 in_channels: int,\n",
    "                 out_channels: int,\n",
    "                 kernel_size: Union[int, Tuple[int, int, int]] = 3,\n",
    "                 stride: Union[int, Tuple[int, int, int]] = 1,\n",
    "                 group: Optional[int] = 32,\n",
    "                 dilation: Optional[int] = 1,\n",
    "                 padding: Optional[int] = 1):\n",
    "        \n",
    "        super().__init__()\n",
    "        \n",
    "        self.norm1 = nn.GroupNorm(num_groups=group,\n",
    "                             num_channels=in_channels,\n",
    "                             eps=1e-6)\n",
    "        \n",
    "        self.conv1 = nn.Conv3d(in_channels=in_channels,\n",
    "                          out_channels=out_channels,\n",
    "                          kernel_size=kernel_size,\n",
    "                          stride=stride,\n",
    "                          padding=padding,\n",
    "                          dilation=dilation)\n",
    "        \n",
    "\n",
    "\n",
    "    def forward(self, x):\n",
    "\n",
    "        x = self.norm1(x)\n",
    "        x = self.conv1(x)\n",
    "        return x \n",
    "    \n",
    "\n",
    "        \n",
    "\n",
    "\n",
    "x = torch.randn(2, 16, 8, 256, 256)\n",
    "\n",
    "neural_network = Neural_Network(in_channels=16,\n",
    "                                out_channels=16,\n",
    "                                group=2)\n",
    "\n",
    "print(neural_network)\n",
    "\n",
    "output = neural_network(x)\n",
    "output.shape\n"
   ]
  },
  {
   "cell_type": "markdown",
   "id": "f319d5cb",
   "metadata": {},
   "source": [
    "# 6. if add the two different dimension"
   ]
  },
  {
   "cell_type": "code",
   "execution_count": 12,
   "id": "a2adb5e1",
   "metadata": {},
   "outputs": [
    {
     "data": {
      "text/plain": [
       "torch.Size([2, 16, 32, 32])"
      ]
     },
     "execution_count": 12,
     "metadata": {},
     "output_type": "execute_result"
    }
   ],
   "source": [
    "import torch \n",
    "\n",
    "x = torch.randn(2, 16, 32, 32)\n",
    "temb = torch.rand(2, 16)\n",
    "\n",
    "temb = temb[:, :, None, None]\n",
    "\n",
    "\n",
    "\n",
    "add = x + temb\n",
    "add.shape  # [2, 16, 32, 32]"
   ]
  },
  {
   "cell_type": "markdown",
   "id": "9c775e05",
   "metadata": {},
   "source": [
    "# 7. torch.chunk()"
   ]
  },
  {
   "cell_type": "code",
   "execution_count": 16,
   "id": "f21e944a",
   "metadata": {},
   "outputs": [
    {
     "data": {
      "text/plain": [
       "(torch.Size([2, 128]), torch.Size([2, 128]))"
      ]
     },
     "execution_count": 16,
     "metadata": {},
     "output_type": "execute_result"
    }
   ],
   "source": [
    "import torch \n",
    "\n",
    "temb = torch.randn(2, 256)\n",
    "\n",
    "a, b = torch.chunk(temb,\n",
    "                         chunks=2,\n",
    "                         dim=1)\n",
    "\n",
    "a.shape, b.shape\n",
    "\n"
   ]
  },
  {
   "cell_type": "code",
   "execution_count": 5,
   "id": "9e1fb373",
   "metadata": {},
   "outputs": [
    {
     "data": {
      "text/plain": [
       "torch.Size([2, 64, 8, 68, 68])"
      ]
     },
     "execution_count": 5,
     "metadata": {},
     "output_type": "execute_result"
    }
   ],
   "source": [
    "import torch \n",
    "\n",
    "x = torch.randn(2, 32, 8, 68, 68)\n",
    "\n",
    "conv = torch.nn.Conv3d(in_channels=32,\n",
    "                       out_channels=64,\n",
    "                       kernel_size=3,\n",
    "                       stride=1,\n",
    "                       padding=1,\n",
    "                        dilation=1,\n",
    "                        groups=2)\n",
    "\n",
    "conv = conv(x)\n",
    "conv.shape"
   ]
  },
  {
   "cell_type": "markdown",
   "id": "1bf3e3e8",
   "metadata": {},
   "source": [
    "# 8. what is the meaning Pixelshuffle() and PixelUnshuffle()"
   ]
  },
  {
   "cell_type": "code",
   "execution_count": null,
   "id": "daa253ab",
   "metadata": {},
   "outputs": [
    {
     "data": {
      "text/plain": [
       "torch.Size([2, 2, 512, 512])"
      ]
     },
     "execution_count": 12,
     "metadata": {},
     "output_type": "execute_result"
    }
   ],
   "source": [
    "import torch \n",
    "\n",
    "\n",
    "x = torch.randn(2, 4, 256, 256) # output = [2, 1, 512, 512]\n",
    "x = torch.randn(2, 8, 256, 256) # output = [2, 2, 512, 512]\n",
    "\n",
    "# make sure the `input_channels` is square of `upscale_factor` \n",
    "# out_channels = in_channels / upscaling^2, height, width * upscaling  \n",
    "pixel_shuffle = torch.nn.PixelShuffle(2) # upscale the channels \n",
    "output = pixel_shuffle(x)\n",
    "output.shape\n"
   ]
  },
  {
   "cell_type": "markdown",
   "id": "b52d3860",
   "metadata": {},
   "source": [
    "in_channels = 4 \n",
    "upscaling = 2*2 = 4 \n",
    "\n",
    "out_channels = in_channels / upscaling\n",
    "out_channels = 4 / 4 = 1 \n"
   ]
  },
  {
   "cell_type": "code",
   "execution_count": 2,
   "id": "1b83a31c",
   "metadata": {},
   "outputs": [
    {
     "data": {
      "text/plain": [
       "torch.Size([2, 16, 128, 128])"
      ]
     },
     "execution_count": 2,
     "metadata": {},
     "output_type": "execute_result"
    }
   ],
   "source": [
    "import torch \n",
    "\n",
    "x = torch.randn(2, 4, 256, 256)\n",
    "\n",
    "# out_channels = in_channels * downscale^2, height, width / downscale \n",
    "pixel_unshuffle = torch.nn.PixelUnshuffle(2)\n",
    "output = pixel_unshuffle(x)\n",
    "output.shape # [2, 1, 128, 128]"
   ]
  },
  {
   "cell_type": "code",
   "execution_count": 1,
   "id": "6060e2c6",
   "metadata": {},
   "outputs": [
    {
     "data": {
      "text/plain": [
       "64"
      ]
     },
     "execution_count": 1,
     "metadata": {},
     "output_type": "execute_result"
    }
   ],
   "source": [
    "block_output = (64,)\n",
    "block_output[0]"
   ]
  },
  {
   "cell_type": "markdown",
   "id": "129a6dd4",
   "metadata": {},
   "source": [
    "# 9. torch.layout()"
   ]
  },
  {
   "cell_type": "code",
   "execution_count": 2,
   "id": "43a4c991",
   "metadata": {},
   "outputs": [
    {
     "data": {
      "text/plain": [
       "(1, 3)"
      ]
     },
     "execution_count": 2,
     "metadata": {},
     "output_type": "execute_result"
    }
   ],
   "source": [
    "import torch \n",
    "\n",
    "\n",
    "\n",
    "\n",
    "tensor = torch.randn(2, 3)\n",
    "tensor.layout\n",
    "\n",
    "converted_shape = tensor.t().stride()\n",
    "converted_shape"
   ]
  },
  {
   "cell_type": "markdown",
   "id": "077e028e",
   "metadata": {},
   "source": [
    "# 10. torch.generator()\n",
    "\n"
   ]
  },
  {
   "cell_type": "code",
   "execution_count": 12,
   "id": "99156774",
   "metadata": {},
   "outputs": [
    {
     "data": {
      "text/plain": [
       "8784880626046803224"
      ]
     },
     "execution_count": 12,
     "metadata": {},
     "output_type": "execute_result"
    }
   ],
   "source": [
    "device = torch.device(\"cuda\") if torch.cuda.is_available() else \"cpu\"\n",
    "\n",
    "generator = torch.Generator(device=device)\n",
    "generator.seed()"
   ]
  },
  {
   "cell_type": "markdown",
   "id": "7fadbedf",
   "metadata": {},
   "source": [
    "# 11. diffusers.register_to_config()"
   ]
  },
  {
   "cell_type": "code",
   "execution_count": 5,
   "id": "831fb0dd",
   "metadata": {},
   "outputs": [],
   "source": [
    "from diffusers.configuration_utils import register_to_config, ConfigMixin\n",
    "\n",
    "class vae_Config(ConfigMixin):\n",
    "\n",
    "    @register_to_config\n",
    "    def __init__(self,\n",
    "                 model_name=\"bert\",\n",
    "                 hidden_size=768,\n",
    "                 num_layers=12,\n",
    "                 temporary_param=None,\n",
    "                 _private_param=None):\n",
    "        \n",
    "        self.model_name = model_name\n",
    "        self.hidden_size = hidden_size\n",
    "        self.num_layers = num_layers\n",
    "        self.temporary_param = temporary_param\n",
    "        self._private_param = _private_param"
   ]
  },
  {
   "cell_type": "code",
   "execution_count": null,
   "id": "4482b70e",
   "metadata": {},
   "outputs": [
    {
     "data": {
      "text/plain": [
       "vae_Config {\n",
       "  \"_class_name\": \"vae_Config\",\n",
       "  \"_diffusers_version\": \"0.33.1\",\n",
       "  \"_private_param\": null,\n",
       "  \"hidden_size\": 768,\n",
       "  \"model_name\": \"bert\",\n",
       "  \"num_layers\": 12,\n",
       "  \"temporary_param\": null\n",
       "}"
      ]
     },
     "execution_count": 7,
     "metadata": {},
     "output_type": "execute_result"
    }
   ],
   "source": [
    "vae_Config.config_name = \"vae_Config\"\n",
    "model_config = vae_Config()\n",
    "model_config"
   ]
  },
  {
   "cell_type": "markdown",
   "id": "9352873c",
   "metadata": {},
   "source": [
    "## 12. nn.register_buffer()"
   ]
  },
  {
   "cell_type": "code",
   "execution_count": 12,
   "id": "5d218b8a",
   "metadata": {},
   "outputs": [
    {
     "data": {
      "text/plain": [
       "torch.Size([1, 3, 1, 1])"
      ]
     },
     "execution_count": 12,
     "metadata": {},
     "output_type": "execute_result"
    }
   ],
   "source": [
    "import torch\n",
    "from torch import nn \n",
    "\n",
    "class Test(nn.Module):\n",
    "    def __init__(self):\n",
    "        super().__init__()\n",
    "        self.register_buffer('tensor1', torch.tensor([0.2, 0.3, 0.4])[None, :, None, None])\n",
    "        \n",
    "\n",
    "    def forward(self):\n",
    "        return self.tensor2\n",
    "    \n",
    "\n",
    "a = Test()\n",
    "a = a()\n",
    "a.shape"
   ]
  },
  {
   "cell_type": "markdown",
   "id": "cfa305ef",
   "metadata": {},
   "source": [
    "## 13. torchvision.models()"
   ]
  },
  {
   "cell_type": "code",
   "execution_count": 20,
   "id": "ac4066a9",
   "metadata": {},
   "outputs": [
    {
     "data": {
      "text/plain": [
       "Sequential(\n",
       "  (0): Conv2d(3, 64, kernel_size=(3, 3), stride=(1, 1), padding=(1, 1))\n",
       "  (1): ReLU(inplace=True)\n",
       "  (2): Conv2d(64, 64, kernel_size=(3, 3), stride=(1, 1), padding=(1, 1))\n",
       "  (3): ReLU(inplace=True)\n",
       "  (4): MaxPool2d(kernel_size=2, stride=2, padding=0, dilation=1, ceil_mode=False)\n",
       "  (5): Conv2d(64, 128, kernel_size=(3, 3), stride=(1, 1), padding=(1, 1))\n",
       "  (6): ReLU(inplace=True)\n",
       "  (7): Conv2d(128, 128, kernel_size=(3, 3), stride=(1, 1), padding=(1, 1))\n",
       "  (8): ReLU(inplace=True)\n",
       "  (9): MaxPool2d(kernel_size=2, stride=2, padding=0, dilation=1, ceil_mode=False)\n",
       "  (10): Conv2d(128, 256, kernel_size=(3, 3), stride=(1, 1), padding=(1, 1))\n",
       "  (11): ReLU(inplace=True)\n",
       "  (12): Conv2d(256, 256, kernel_size=(3, 3), stride=(1, 1), padding=(1, 1))\n",
       "  (13): ReLU(inplace=True)\n",
       "  (14): Conv2d(256, 256, kernel_size=(3, 3), stride=(1, 1), padding=(1, 1))\n",
       "  (15): ReLU(inplace=True)\n",
       "  (16): MaxPool2d(kernel_size=2, stride=2, padding=0, dilation=1, ceil_mode=False)\n",
       "  (17): Conv2d(256, 512, kernel_size=(3, 3), stride=(1, 1), padding=(1, 1))\n",
       "  (18): ReLU(inplace=True)\n",
       "  (19): Conv2d(512, 512, kernel_size=(3, 3), stride=(1, 1), padding=(1, 1))\n",
       "  (20): ReLU(inplace=True)\n",
       "  (21): Conv2d(512, 512, kernel_size=(3, 3), stride=(1, 1), padding=(1, 1))\n",
       "  (22): ReLU(inplace=True)\n",
       "  (23): MaxPool2d(kernel_size=2, stride=2, padding=0, dilation=1, ceil_mode=False)\n",
       "  (24): Conv2d(512, 512, kernel_size=(3, 3), stride=(1, 1), padding=(1, 1))\n",
       "  (25): ReLU(inplace=True)\n",
       "  (26): Conv2d(512, 512, kernel_size=(3, 3), stride=(1, 1), padding=(1, 1))\n",
       "  (27): ReLU(inplace=True)\n",
       "  (28): Conv2d(512, 512, kernel_size=(3, 3), stride=(1, 1), padding=(1, 1))\n",
       "  (29): ReLU(inplace=True)\n",
       "  (30): MaxPool2d(kernel_size=2, stride=2, padding=0, dilation=1, ceil_mode=False)\n",
       ")"
      ]
     },
     "execution_count": 20,
     "metadata": {},
     "output_type": "execute_result"
    }
   ],
   "source": [
    "from torchvision import models\n",
    "\n",
    "vgg_16 = models.vgg16().features\n",
    "vgg_16"
   ]
  },
  {
   "cell_type": "code",
   "execution_count": 50,
   "id": "1583567e",
   "metadata": {},
   "outputs": [
    {
     "data": {
      "text/plain": [
       "torch.Size([2, 64, 256, 256])"
      ]
     },
     "execution_count": 50,
     "metadata": {},
     "output_type": "execute_result"
    }
   ],
   "source": [
    "import torch\n",
    "from torch import nn \n",
    "from collections import namedtuple\n",
    "from torchvision import models\n",
    "\n",
    "\n",
    "class Vgg16(nn.Module):\n",
    "    def __init__(self,\n",
    "                 requires_grad=False,\n",
    "                 pretrained=True):\n",
    "        super().__init__()\n",
    "        \n",
    "        vgg_pretrained_features = models.vgg16().features\n",
    "        self.slice1 = nn.Sequential()\n",
    "        self.slice2 = nn.Sequential()\n",
    "        self.slice3 = nn.Sequential()\n",
    "        self.slice4 = nn.Sequential()\n",
    "        self.slice5 = nn.Sequential()\n",
    "        \n",
    "        \n",
    "        for i in range(4): \n",
    "            self.slice1.add_module(name=str(i), module=vgg_pretrained_features[i]) \n",
    "        for i in range(4, 9): \n",
    "            self.slice2.add_module(name=str(i), module=vgg_pretrained_features[i])\n",
    "        for i in range(9, 16):  \n",
    "            self.slice3.add_module(name=str(i), module=vgg_pretrained_features[i])\n",
    "        for i in range(16, 23):  \n",
    "            self.slice4.add_module(name=str(i), module=vgg_pretrained_features[i])\n",
    "        for i in range(23, 30):  \n",
    "            self.slice5.add_module(name=str(i), module=vgg_pretrained_features[i])\n",
    "\n",
    "        if not requires_grad:\n",
    "            for param in self.parameters():\n",
    "                param.requires_grad = False\n",
    "\n",
    "\n",
    "    def forward(self, x):\n",
    "        h1 = self.slice1(x)\n",
    "        h2 = self.slice2(h1)\n",
    "        h3 = self.slice3(h2)\n",
    "        h4 = self.slice4(h3)\n",
    "        h5 = self.slice5(h4)\n",
    "\n",
    "        vgg_outputs = namedtuple(typename=\"VggOutputs\", field_names=['h1', 'h2', 'h3', 'h4', 'h5'])\n",
    "        out = vgg_outputs(h1, h2, h3, h4, h5)\n",
    "\n",
    "        return out \n",
    "    \n",
    "\n",
    "    \n",
    "\n",
    "out = Vgg16()\n",
    "x = torch.randn(2, 3, 256, 256)\n",
    "out = out(x)\n",
    "out.h1.shape"
   ]
  },
  {
   "cell_type": "code",
   "execution_count": 51,
   "id": "c689de31",
   "metadata": {},
   "outputs": [
    {
     "ename": "TypeError",
     "evalue": "list is not a Module subclass",
     "output_type": "error",
     "traceback": [
      "\u001b[0;31m---------------------------------------------------------------------------\u001b[0m",
      "\u001b[0;31mTypeError\u001b[0m                                 Traceback (most recent call last)",
      "Cell \u001b[0;32mIn[51], line 19\u001b[0m\n\u001b[1;32m      8\u001b[0m         \u001b[38;5;28msuper\u001b[39m()\u001b[38;5;241m.\u001b[39m\u001b[38;5;21m__init__\u001b[39m()\n\u001b[1;32m      9\u001b[0m         \u001b[38;5;28mself\u001b[39m\u001b[38;5;241m.\u001b[39mmodel \u001b[38;5;241m=\u001b[39m nn\u001b[38;5;241m.\u001b[39mSequential([\n\u001b[1;32m     10\u001b[0m             nn\u001b[38;5;241m.\u001b[39mDropout(),\n\u001b[1;32m     11\u001b[0m             nn\u001b[38;5;241m.\u001b[39mConv2d(in_channels\u001b[38;5;241m=\u001b[39min_channels,\n\u001b[0;32m   (...)\u001b[0m\n\u001b[1;32m     16\u001b[0m                       bias\u001b[38;5;241m=\u001b[39m\u001b[38;5;28;01mFalse\u001b[39;00m)\n\u001b[1;32m     17\u001b[0m         ])\n\u001b[0;32m---> 19\u001b[0m out \u001b[38;5;241m=\u001b[39m \u001b[43mNetLinLayer\u001b[49m\u001b[43m(\u001b[49m\u001b[43min_channels\u001b[49m\u001b[38;5;241;43m=\u001b[39;49m\u001b[38;5;241;43m3\u001b[39;49m\u001b[43m)\u001b[49m\n\u001b[1;32m     20\u001b[0m out\n",
      "Cell \u001b[0;32mIn[51], line 9\u001b[0m, in \u001b[0;36mNetLinLayer.__init__\u001b[0;34m(self, in_channels, out_channels, use_dropout)\u001b[0m\n\u001b[1;32m      4\u001b[0m \u001b[38;5;28;01mdef\u001b[39;00m\u001b[38;5;250m \u001b[39m\u001b[38;5;21m__init__\u001b[39m(\u001b[38;5;28mself\u001b[39m,\n\u001b[1;32m      5\u001b[0m              in_channels,\n\u001b[1;32m      6\u001b[0m              out_channels: \u001b[38;5;28mint\u001b[39m \u001b[38;5;241m=\u001b[39m \u001b[38;5;241m1\u001b[39m,\n\u001b[1;32m      7\u001b[0m              use_dropout: \u001b[38;5;28mbool\u001b[39m \u001b[38;5;241m=\u001b[39m \u001b[38;5;28;01mFalse\u001b[39;00m):\n\u001b[1;32m      8\u001b[0m     \u001b[38;5;28msuper\u001b[39m()\u001b[38;5;241m.\u001b[39m\u001b[38;5;21m__init__\u001b[39m()\n\u001b[0;32m----> 9\u001b[0m     \u001b[38;5;28mself\u001b[39m\u001b[38;5;241m.\u001b[39mmodel \u001b[38;5;241m=\u001b[39m \u001b[43mnn\u001b[49m\u001b[38;5;241;43m.\u001b[39;49m\u001b[43mSequential\u001b[49m\u001b[43m(\u001b[49m\u001b[43m[\u001b[49m\n\u001b[1;32m     10\u001b[0m \u001b[43m        \u001b[49m\u001b[43mnn\u001b[49m\u001b[38;5;241;43m.\u001b[39;49m\u001b[43mDropout\u001b[49m\u001b[43m(\u001b[49m\u001b[43m)\u001b[49m\u001b[43m,\u001b[49m\n\u001b[1;32m     11\u001b[0m \u001b[43m        \u001b[49m\u001b[43mnn\u001b[49m\u001b[38;5;241;43m.\u001b[39;49m\u001b[43mConv2d\u001b[49m\u001b[43m(\u001b[49m\u001b[43min_channels\u001b[49m\u001b[38;5;241;43m=\u001b[39;49m\u001b[43min_channels\u001b[49m\u001b[43m,\u001b[49m\n\u001b[1;32m     12\u001b[0m \u001b[43m                  \u001b[49m\u001b[43mout_channels\u001b[49m\u001b[38;5;241;43m=\u001b[39;49m\u001b[43mout_channels\u001b[49m\u001b[43m,\u001b[49m\n\u001b[1;32m     13\u001b[0m \u001b[43m                  \u001b[49m\u001b[43mkernel_size\u001b[49m\u001b[38;5;241;43m=\u001b[39;49m\u001b[38;5;241;43m1\u001b[39;49m\u001b[43m,\u001b[49m\n\u001b[1;32m     14\u001b[0m \u001b[43m                  \u001b[49m\u001b[43mstride\u001b[49m\u001b[38;5;241;43m=\u001b[39;49m\u001b[38;5;241;43m1\u001b[39;49m\u001b[43m,\u001b[49m\n\u001b[1;32m     15\u001b[0m \u001b[43m                  \u001b[49m\u001b[43mpadding\u001b[49m\u001b[38;5;241;43m=\u001b[39;49m\u001b[38;5;241;43m0\u001b[39;49m\u001b[43m,\u001b[49m\n\u001b[1;32m     16\u001b[0m \u001b[43m                  \u001b[49m\u001b[43mbias\u001b[49m\u001b[38;5;241;43m=\u001b[39;49m\u001b[38;5;28;43;01mFalse\u001b[39;49;00m\u001b[43m)\u001b[49m\n\u001b[1;32m     17\u001b[0m \u001b[43m    \u001b[49m\u001b[43m]\u001b[49m\u001b[43m)\u001b[49m\n",
      "File \u001b[0;32m~/anaconda3/envs/cuda121/lib/python3.10/site-packages/torch/nn/modules/container.py:127\u001b[0m, in \u001b[0;36mSequential.__init__\u001b[0;34m(self, *args)\u001b[0m\n\u001b[1;32m    125\u001b[0m \u001b[38;5;28;01melse\u001b[39;00m:\n\u001b[1;32m    126\u001b[0m     \u001b[38;5;28;01mfor\u001b[39;00m idx, module \u001b[38;5;129;01min\u001b[39;00m \u001b[38;5;28menumerate\u001b[39m(args):\n\u001b[0;32m--> 127\u001b[0m         \u001b[38;5;28;43mself\u001b[39;49m\u001b[38;5;241;43m.\u001b[39;49m\u001b[43madd_module\u001b[49m\u001b[43m(\u001b[49m\u001b[38;5;28;43mstr\u001b[39;49m\u001b[43m(\u001b[49m\u001b[43midx\u001b[49m\u001b[43m)\u001b[49m\u001b[43m,\u001b[49m\u001b[43m \u001b[49m\u001b[43mmodule\u001b[49m\u001b[43m)\u001b[49m\n",
      "File \u001b[0;32m~/anaconda3/envs/cuda121/lib/python3.10/site-packages/torch/nn/modules/module.py:642\u001b[0m, in \u001b[0;36mModule.add_module\u001b[0;34m(self, name, module)\u001b[0m\n\u001b[1;32m    632\u001b[0m \u001b[38;5;250m\u001b[39m\u001b[38;5;124mr\u001b[39m\u001b[38;5;124;03m\"\"\"Add a child module to the current module.\u001b[39;00m\n\u001b[1;32m    633\u001b[0m \n\u001b[1;32m    634\u001b[0m \u001b[38;5;124;03mThe module can be accessed as an attribute using the given name.\u001b[39;00m\n\u001b[0;32m   (...)\u001b[0m\n\u001b[1;32m    639\u001b[0m \u001b[38;5;124;03m    module (Module): child module to be added to the module.\u001b[39;00m\n\u001b[1;32m    640\u001b[0m \u001b[38;5;124;03m\"\"\"\u001b[39;00m\n\u001b[1;32m    641\u001b[0m \u001b[38;5;28;01mif\u001b[39;00m \u001b[38;5;129;01mnot\u001b[39;00m \u001b[38;5;28misinstance\u001b[39m(module, Module) \u001b[38;5;129;01mand\u001b[39;00m module \u001b[38;5;129;01mis\u001b[39;00m \u001b[38;5;129;01mnot\u001b[39;00m \u001b[38;5;28;01mNone\u001b[39;00m:\n\u001b[0;32m--> 642\u001b[0m     \u001b[38;5;28;01mraise\u001b[39;00m \u001b[38;5;167;01mTypeError\u001b[39;00m(\u001b[38;5;124mf\u001b[39m\u001b[38;5;124m\"\u001b[39m\u001b[38;5;132;01m{\u001b[39;00mtorch\u001b[38;5;241m.\u001b[39mtypename(module)\u001b[38;5;132;01m}\u001b[39;00m\u001b[38;5;124m is not a Module subclass\u001b[39m\u001b[38;5;124m\"\u001b[39m)\n\u001b[1;32m    643\u001b[0m \u001b[38;5;28;01melif\u001b[39;00m \u001b[38;5;129;01mnot\u001b[39;00m \u001b[38;5;28misinstance\u001b[39m(name, \u001b[38;5;28mstr\u001b[39m):\n\u001b[1;32m    644\u001b[0m     \u001b[38;5;28;01mraise\u001b[39;00m \u001b[38;5;167;01mTypeError\u001b[39;00m(\n\u001b[1;32m    645\u001b[0m         \u001b[38;5;124mf\u001b[39m\u001b[38;5;124m\"\u001b[39m\u001b[38;5;124mmodule name should be a string. Got \u001b[39m\u001b[38;5;132;01m{\u001b[39;00mtorch\u001b[38;5;241m.\u001b[39mtypename(name)\u001b[38;5;132;01m}\u001b[39;00m\u001b[38;5;124m\"\u001b[39m\n\u001b[1;32m    646\u001b[0m     )\n",
      "\u001b[0;31mTypeError\u001b[0m: list is not a Module subclass"
     ]
    }
   ],
   "source": [
    "class NetLinLayer(nn.Module):\n",
    "    \"\"\"A single linear layer which does a 1x1 conv.\"\"\"\n",
    "\n",
    "    def __init__(self,\n",
    "                 in_channels,\n",
    "                 out_channels: int = 1,\n",
    "                 use_dropout: bool = False):\n",
    "        super().__init__()\n",
    "        self.model = nn.Sequential([\n",
    "            nn.Dropout(),\n",
    "            nn.Conv2d(in_channels=in_channels,\n",
    "                      out_channels=out_channels,\n",
    "                      kernel_size=1,\n",
    "                      stride=1,\n",
    "                      padding=0,\n",
    "                      bias=False)\n",
    "        ])\n",
    "\n",
    "out = NetLinLayer(in_channels=3)\n",
    "out"
   ]
  },
  {
   "cell_type": "code",
   "execution_count": 21,
   "id": "760fe177",
   "metadata": {},
   "outputs": [
    {
     "name": "stdout",
     "output_type": "stream",
     "text": [
      "tensor(1.)\n",
      "tensor([1.])\n",
      "tensor([[1., 1.],\n",
      "        [1., 1.]])\n",
      "tensor([[[1., 1.],\n",
      "         [1., 1.]],\n",
      "\n",
      "        [[1., 1.],\n",
      "         [1., 1.]]])\n",
      "tensor([[[[1., 1., 1.,  ..., 1., 1., 1.],\n",
      "          [1., 1., 1.,  ..., 1., 1., 1.],\n",
      "          [1., 1., 1.,  ..., 1., 1., 1.],\n",
      "          ...,\n",
      "          [1., 1., 1.,  ..., 1., 1., 1.],\n",
      "          [1., 1., 1.,  ..., 1., 1., 1.],\n",
      "          [1., 1., 1.,  ..., 1., 1., 1.]],\n",
      "\n",
      "         [[1., 1., 1.,  ..., 1., 1., 1.],\n",
      "          [1., 1., 1.,  ..., 1., 1., 1.],\n",
      "          [1., 1., 1.,  ..., 1., 1., 1.],\n",
      "          ...,\n",
      "          [1., 1., 1.,  ..., 1., 1., 1.],\n",
      "          [1., 1., 1.,  ..., 1., 1., 1.],\n",
      "          [1., 1., 1.,  ..., 1., 1., 1.]],\n",
      "\n",
      "         [[1., 1., 1.,  ..., 1., 1., 1.],\n",
      "          [1., 1., 1.,  ..., 1., 1., 1.],\n",
      "          [1., 1., 1.,  ..., 1., 1., 1.],\n",
      "          ...,\n",
      "          [1., 1., 1.,  ..., 1., 1., 1.],\n",
      "          [1., 1., 1.,  ..., 1., 1., 1.],\n",
      "          [1., 1., 1.,  ..., 1., 1., 1.]]],\n",
      "\n",
      "\n",
      "        [[[1., 1., 1.,  ..., 1., 1., 1.],\n",
      "          [1., 1., 1.,  ..., 1., 1., 1.],\n",
      "          [1., 1., 1.,  ..., 1., 1., 1.],\n",
      "          ...,\n",
      "          [1., 1., 1.,  ..., 1., 1., 1.],\n",
      "          [1., 1., 1.,  ..., 1., 1., 1.],\n",
      "          [1., 1., 1.,  ..., 1., 1., 1.]],\n",
      "\n",
      "         [[1., 1., 1.,  ..., 1., 1., 1.],\n",
      "          [1., 1., 1.,  ..., 1., 1., 1.],\n",
      "          [1., 1., 1.,  ..., 1., 1., 1.],\n",
      "          ...,\n",
      "          [1., 1., 1.,  ..., 1., 1., 1.],\n",
      "          [1., 1., 1.,  ..., 1., 1., 1.],\n",
      "          [1., 1., 1.,  ..., 1., 1., 1.]],\n",
      "\n",
      "         [[1., 1., 1.,  ..., 1., 1., 1.],\n",
      "          [1., 1., 1.,  ..., 1., 1., 1.],\n",
      "          [1., 1., 1.,  ..., 1., 1., 1.],\n",
      "          ...,\n",
      "          [1., 1., 1.,  ..., 1., 1., 1.],\n",
      "          [1., 1., 1.,  ..., 1., 1., 1.],\n",
      "          [1., 1., 1.,  ..., 1., 1., 1.]]]])\n",
      "tensor([[[[[1., 1., 1.,  ..., 1., 1., 1.],\n",
      "           [1., 1., 1.,  ..., 1., 1., 1.],\n",
      "           [1., 1., 1.,  ..., 1., 1., 1.],\n",
      "           ...,\n",
      "           [1., 1., 1.,  ..., 1., 1., 1.],\n",
      "           [1., 1., 1.,  ..., 1., 1., 1.],\n",
      "           [1., 1., 1.,  ..., 1., 1., 1.]],\n",
      "\n",
      "          [[1., 1., 1.,  ..., 1., 1., 1.],\n",
      "           [1., 1., 1.,  ..., 1., 1., 1.],\n",
      "           [1., 1., 1.,  ..., 1., 1., 1.],\n",
      "           ...,\n",
      "           [1., 1., 1.,  ..., 1., 1., 1.],\n",
      "           [1., 1., 1.,  ..., 1., 1., 1.],\n",
      "           [1., 1., 1.,  ..., 1., 1., 1.]],\n",
      "\n",
      "          [[1., 1., 1.,  ..., 1., 1., 1.],\n",
      "           [1., 1., 1.,  ..., 1., 1., 1.],\n",
      "           [1., 1., 1.,  ..., 1., 1., 1.],\n",
      "           ...,\n",
      "           [1., 1., 1.,  ..., 1., 1., 1.],\n",
      "           [1., 1., 1.,  ..., 1., 1., 1.],\n",
      "           [1., 1., 1.,  ..., 1., 1., 1.]],\n",
      "\n",
      "          [[1., 1., 1.,  ..., 1., 1., 1.],\n",
      "           [1., 1., 1.,  ..., 1., 1., 1.],\n",
      "           [1., 1., 1.,  ..., 1., 1., 1.],\n",
      "           ...,\n",
      "           [1., 1., 1.,  ..., 1., 1., 1.],\n",
      "           [1., 1., 1.,  ..., 1., 1., 1.],\n",
      "           [1., 1., 1.,  ..., 1., 1., 1.]]],\n",
      "\n",
      "\n",
      "         [[[1., 1., 1.,  ..., 1., 1., 1.],\n",
      "           [1., 1., 1.,  ..., 1., 1., 1.],\n",
      "           [1., 1., 1.,  ..., 1., 1., 1.],\n",
      "           ...,\n",
      "           [1., 1., 1.,  ..., 1., 1., 1.],\n",
      "           [1., 1., 1.,  ..., 1., 1., 1.],\n",
      "           [1., 1., 1.,  ..., 1., 1., 1.]],\n",
      "\n",
      "          [[1., 1., 1.,  ..., 1., 1., 1.],\n",
      "           [1., 1., 1.,  ..., 1., 1., 1.],\n",
      "           [1., 1., 1.,  ..., 1., 1., 1.],\n",
      "           ...,\n",
      "           [1., 1., 1.,  ..., 1., 1., 1.],\n",
      "           [1., 1., 1.,  ..., 1., 1., 1.],\n",
      "           [1., 1., 1.,  ..., 1., 1., 1.]],\n",
      "\n",
      "          [[1., 1., 1.,  ..., 1., 1., 1.],\n",
      "           [1., 1., 1.,  ..., 1., 1., 1.],\n",
      "           [1., 1., 1.,  ..., 1., 1., 1.],\n",
      "           ...,\n",
      "           [1., 1., 1.,  ..., 1., 1., 1.],\n",
      "           [1., 1., 1.,  ..., 1., 1., 1.],\n",
      "           [1., 1., 1.,  ..., 1., 1., 1.]],\n",
      "\n",
      "          [[1., 1., 1.,  ..., 1., 1., 1.],\n",
      "           [1., 1., 1.,  ..., 1., 1., 1.],\n",
      "           [1., 1., 1.,  ..., 1., 1., 1.],\n",
      "           ...,\n",
      "           [1., 1., 1.,  ..., 1., 1., 1.],\n",
      "           [1., 1., 1.,  ..., 1., 1., 1.],\n",
      "           [1., 1., 1.,  ..., 1., 1., 1.]]],\n",
      "\n",
      "\n",
      "         [[[1., 1., 1.,  ..., 1., 1., 1.],\n",
      "           [1., 1., 1.,  ..., 1., 1., 1.],\n",
      "           [1., 1., 1.,  ..., 1., 1., 1.],\n",
      "           ...,\n",
      "           [1., 1., 1.,  ..., 1., 1., 1.],\n",
      "           [1., 1., 1.,  ..., 1., 1., 1.],\n",
      "           [1., 1., 1.,  ..., 1., 1., 1.]],\n",
      "\n",
      "          [[1., 1., 1.,  ..., 1., 1., 1.],\n",
      "           [1., 1., 1.,  ..., 1., 1., 1.],\n",
      "           [1., 1., 1.,  ..., 1., 1., 1.],\n",
      "           ...,\n",
      "           [1., 1., 1.,  ..., 1., 1., 1.],\n",
      "           [1., 1., 1.,  ..., 1., 1., 1.],\n",
      "           [1., 1., 1.,  ..., 1., 1., 1.]],\n",
      "\n",
      "          [[1., 1., 1.,  ..., 1., 1., 1.],\n",
      "           [1., 1., 1.,  ..., 1., 1., 1.],\n",
      "           [1., 1., 1.,  ..., 1., 1., 1.],\n",
      "           ...,\n",
      "           [1., 1., 1.,  ..., 1., 1., 1.],\n",
      "           [1., 1., 1.,  ..., 1., 1., 1.],\n",
      "           [1., 1., 1.,  ..., 1., 1., 1.]],\n",
      "\n",
      "          [[1., 1., 1.,  ..., 1., 1., 1.],\n",
      "           [1., 1., 1.,  ..., 1., 1., 1.],\n",
      "           [1., 1., 1.,  ..., 1., 1., 1.],\n",
      "           ...,\n",
      "           [1., 1., 1.,  ..., 1., 1., 1.],\n",
      "           [1., 1., 1.,  ..., 1., 1., 1.],\n",
      "           [1., 1., 1.,  ..., 1., 1., 1.]]]],\n",
      "\n",
      "\n",
      "\n",
      "        [[[[1., 1., 1.,  ..., 1., 1., 1.],\n",
      "           [1., 1., 1.,  ..., 1., 1., 1.],\n",
      "           [1., 1., 1.,  ..., 1., 1., 1.],\n",
      "           ...,\n",
      "           [1., 1., 1.,  ..., 1., 1., 1.],\n",
      "           [1., 1., 1.,  ..., 1., 1., 1.],\n",
      "           [1., 1., 1.,  ..., 1., 1., 1.]],\n",
      "\n",
      "          [[1., 1., 1.,  ..., 1., 1., 1.],\n",
      "           [1., 1., 1.,  ..., 1., 1., 1.],\n",
      "           [1., 1., 1.,  ..., 1., 1., 1.],\n",
      "           ...,\n",
      "           [1., 1., 1.,  ..., 1., 1., 1.],\n",
      "           [1., 1., 1.,  ..., 1., 1., 1.],\n",
      "           [1., 1., 1.,  ..., 1., 1., 1.]],\n",
      "\n",
      "          [[1., 1., 1.,  ..., 1., 1., 1.],\n",
      "           [1., 1., 1.,  ..., 1., 1., 1.],\n",
      "           [1., 1., 1.,  ..., 1., 1., 1.],\n",
      "           ...,\n",
      "           [1., 1., 1.,  ..., 1., 1., 1.],\n",
      "           [1., 1., 1.,  ..., 1., 1., 1.],\n",
      "           [1., 1., 1.,  ..., 1., 1., 1.]],\n",
      "\n",
      "          [[1., 1., 1.,  ..., 1., 1., 1.],\n",
      "           [1., 1., 1.,  ..., 1., 1., 1.],\n",
      "           [1., 1., 1.,  ..., 1., 1., 1.],\n",
      "           ...,\n",
      "           [1., 1., 1.,  ..., 1., 1., 1.],\n",
      "           [1., 1., 1.,  ..., 1., 1., 1.],\n",
      "           [1., 1., 1.,  ..., 1., 1., 1.]]],\n",
      "\n",
      "\n",
      "         [[[1., 1., 1.,  ..., 1., 1., 1.],\n",
      "           [1., 1., 1.,  ..., 1., 1., 1.],\n",
      "           [1., 1., 1.,  ..., 1., 1., 1.],\n",
      "           ...,\n",
      "           [1., 1., 1.,  ..., 1., 1., 1.],\n",
      "           [1., 1., 1.,  ..., 1., 1., 1.],\n",
      "           [1., 1., 1.,  ..., 1., 1., 1.]],\n",
      "\n",
      "          [[1., 1., 1.,  ..., 1., 1., 1.],\n",
      "           [1., 1., 1.,  ..., 1., 1., 1.],\n",
      "           [1., 1., 1.,  ..., 1., 1., 1.],\n",
      "           ...,\n",
      "           [1., 1., 1.,  ..., 1., 1., 1.],\n",
      "           [1., 1., 1.,  ..., 1., 1., 1.],\n",
      "           [1., 1., 1.,  ..., 1., 1., 1.]],\n",
      "\n",
      "          [[1., 1., 1.,  ..., 1., 1., 1.],\n",
      "           [1., 1., 1.,  ..., 1., 1., 1.],\n",
      "           [1., 1., 1.,  ..., 1., 1., 1.],\n",
      "           ...,\n",
      "           [1., 1., 1.,  ..., 1., 1., 1.],\n",
      "           [1., 1., 1.,  ..., 1., 1., 1.],\n",
      "           [1., 1., 1.,  ..., 1., 1., 1.]],\n",
      "\n",
      "          [[1., 1., 1.,  ..., 1., 1., 1.],\n",
      "           [1., 1., 1.,  ..., 1., 1., 1.],\n",
      "           [1., 1., 1.,  ..., 1., 1., 1.],\n",
      "           ...,\n",
      "           [1., 1., 1.,  ..., 1., 1., 1.],\n",
      "           [1., 1., 1.,  ..., 1., 1., 1.],\n",
      "           [1., 1., 1.,  ..., 1., 1., 1.]]],\n",
      "\n",
      "\n",
      "         [[[1., 1., 1.,  ..., 1., 1., 1.],\n",
      "           [1., 1., 1.,  ..., 1., 1., 1.],\n",
      "           [1., 1., 1.,  ..., 1., 1., 1.],\n",
      "           ...,\n",
      "           [1., 1., 1.,  ..., 1., 1., 1.],\n",
      "           [1., 1., 1.,  ..., 1., 1., 1.],\n",
      "           [1., 1., 1.,  ..., 1., 1., 1.]],\n",
      "\n",
      "          [[1., 1., 1.,  ..., 1., 1., 1.],\n",
      "           [1., 1., 1.,  ..., 1., 1., 1.],\n",
      "           [1., 1., 1.,  ..., 1., 1., 1.],\n",
      "           ...,\n",
      "           [1., 1., 1.,  ..., 1., 1., 1.],\n",
      "           [1., 1., 1.,  ..., 1., 1., 1.],\n",
      "           [1., 1., 1.,  ..., 1., 1., 1.]],\n",
      "\n",
      "          [[1., 1., 1.,  ..., 1., 1., 1.],\n",
      "           [1., 1., 1.,  ..., 1., 1., 1.],\n",
      "           [1., 1., 1.,  ..., 1., 1., 1.],\n",
      "           ...,\n",
      "           [1., 1., 1.,  ..., 1., 1., 1.],\n",
      "           [1., 1., 1.,  ..., 1., 1., 1.],\n",
      "           [1., 1., 1.,  ..., 1., 1., 1.]],\n",
      "\n",
      "          [[1., 1., 1.,  ..., 1., 1., 1.],\n",
      "           [1., 1., 1.,  ..., 1., 1., 1.],\n",
      "           [1., 1., 1.,  ..., 1., 1., 1.],\n",
      "           ...,\n",
      "           [1., 1., 1.,  ..., 1., 1., 1.],\n",
      "           [1., 1., 1.,  ..., 1., 1., 1.],\n",
      "           [1., 1., 1.,  ..., 1., 1., 1.]]]]])\n"
     ]
    }
   ],
   "source": [
    "import torch\n",
    "\n",
    "print(torch.ones(())) # zero dim \n",
    "print(torch.ones(1)) # one dim \n",
    "print(torch.ones(2, 2)) # two dim \n",
    "print(torch.ones(2, 2, 2))  # three dim\n",
    "print(torch.ones(2, 3, 128, 128))   # four dim\n",
    "print(torch.ones(2, 3, 4, 128, 128))   # five dim\n",
    "\n"
   ]
  },
  {
   "cell_type": "code",
   "execution_count": null,
   "id": "d71ce5da",
   "metadata": {},
   "outputs": [],
   "source": []
  }
 ],
 "metadata": {
  "kernelspec": {
   "display_name": "cuda121",
   "language": "python",
   "name": "python3"
  },
  "language_info": {
   "codemirror_mode": {
    "name": "ipython",
    "version": 3
   },
   "file_extension": ".py",
   "mimetype": "text/x-python",
   "name": "python",
   "nbconvert_exporter": "python",
   "pygments_lexer": "ipython3",
   "version": "3.10.16"
  }
 },
 "nbformat": 4,
 "nbformat_minor": 5
}

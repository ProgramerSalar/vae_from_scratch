{
 "cells": [
  {
   "cell_type": "code",
   "execution_count": 1,
   "id": "700e3b03",
   "metadata": {},
   "outputs": [
    {
     "name": "stderr",
     "output_type": "stream",
     "text": [
      "/home/manish/anaconda3/envs/cuda121/lib/python3.10/site-packages/torchrl/data/replay_buffers/samplers.py:36: UserWarning: Failed to import torchrl C++ binaries. Some modules (eg, prioritized replay buffers) may not work with your installation. This is likely due to a discrepancy between your package version and the PyTorch version. Make sure both are compatible. Usually, torchrl majors follow the pytorch majors within a few days around the release. For instance, TorchRL 0.5 requires PyTorch 2.4.0, and TorchRL 0.6 requires PyTorch 2.5.0.\n",
      "  warnings.warn(EXTENSION_WARNING)\n"
     ]
    },
    {
     "ename": "TypeError",
     "evalue": "expand_as(): argument 'other' (position 1) must be Tensor, not float",
     "output_type": "error",
     "traceback": [
      "\u001b[0;31m---------------------------------------------------------------------------\u001b[0m",
      "\u001b[0;31mTypeError\u001b[0m                                 Traceback (most recent call last)",
      "Cell \u001b[0;32mIn[1], line 7\u001b[0m\n\u001b[1;32m      3\u001b[0m \u001b[38;5;28;01mimport\u001b[39;00m\u001b[38;5;250m \u001b[39m\u001b[38;5;21;01mtorch\u001b[39;00m \n\u001b[1;32m      5\u001b[0m x \u001b[38;5;241m=\u001b[39m torch\u001b[38;5;241m.\u001b[39mrandn(\u001b[38;5;241m32\u001b[39m, \u001b[38;5;241m3\u001b[39m, \u001b[38;5;241m256\u001b[39m, \u001b[38;5;241m256\u001b[39m)\n\u001b[0;32m----> 7\u001b[0m truncate_normal \u001b[38;5;241m=\u001b[39m \u001b[43mTruncatedNormal\u001b[49m\u001b[43m(\u001b[49m\u001b[43mx\u001b[49m\u001b[43m,\u001b[49m\n\u001b[1;32m      8\u001b[0m \u001b[43m                                    \u001b[49m\u001b[43mscale\u001b[49m\u001b[38;5;241;43m=\u001b[39;49m\u001b[38;5;241;43m0.02\u001b[39;49m\u001b[43m)\u001b[49m\n\u001b[1;32m      9\u001b[0m \u001b[38;5;28mprint\u001b[39m(truncate_normal)\n",
      "File \u001b[0;32m~/anaconda3/envs/cuda121/lib/python3.10/site-packages/torchrl/modules/distributions/continuous.py:216\u001b[0m, in \u001b[0;36mTruncatedNormal.__init__\u001b[0;34m(self, loc, scale, upscale, low, high, tanh_loc)\u001b[0m\n\u001b[1;32m    214\u001b[0m \u001b[38;5;28mself\u001b[39m\u001b[38;5;241m.\u001b[39mlow \u001b[38;5;241m=\u001b[39m low\n\u001b[1;32m    215\u001b[0m \u001b[38;5;28mself\u001b[39m\u001b[38;5;241m.\u001b[39mhigh \u001b[38;5;241m=\u001b[39m high\n\u001b[0;32m--> 216\u001b[0m \u001b[38;5;28;43mself\u001b[39;49m\u001b[38;5;241;43m.\u001b[39;49m\u001b[43mupdate\u001b[49m\u001b[43m(\u001b[49m\u001b[43mloc\u001b[49m\u001b[43m,\u001b[49m\u001b[43m \u001b[49m\u001b[43mscale\u001b[49m\u001b[43m)\u001b[49m\n",
      "File \u001b[0;32m~/anaconda3/envs/cuda121/lib/python3.10/site-packages/torchrl/modules/distributions/continuous.py:238\u001b[0m, in \u001b[0;36mTruncatedNormal.update\u001b[0;34m(self, loc, scale)\u001b[0m\n\u001b[1;32m    231\u001b[0m \u001b[38;5;28mself\u001b[39m\u001b[38;5;241m.\u001b[39mloc \u001b[38;5;241m=\u001b[39m loc\n\u001b[1;32m    232\u001b[0m \u001b[38;5;28mself\u001b[39m\u001b[38;5;241m.\u001b[39mscale \u001b[38;5;241m=\u001b[39m scale\n\u001b[1;32m    234\u001b[0m base_dist \u001b[38;5;241m=\u001b[39m _TruncatedNormal(\n\u001b[1;32m    235\u001b[0m     loc,\n\u001b[1;32m    236\u001b[0m     scale,\n\u001b[1;32m    237\u001b[0m     a\u001b[38;5;241m=\u001b[39m\u001b[38;5;28mself\u001b[39m\u001b[38;5;241m.\u001b[39mlow\u001b[38;5;241m.\u001b[39mexpand_as(loc),\n\u001b[0;32m--> 238\u001b[0m     b\u001b[38;5;241m=\u001b[39m\u001b[38;5;28;43mself\u001b[39;49m\u001b[38;5;241;43m.\u001b[39;49m\u001b[43mhigh\u001b[49m\u001b[38;5;241;43m.\u001b[39;49m\u001b[43mexpand_as\u001b[49m\u001b[43m(\u001b[49m\u001b[43mscale\u001b[49m\u001b[43m)\u001b[49m,\n\u001b[1;32m    239\u001b[0m     device\u001b[38;5;241m=\u001b[39m\u001b[38;5;28mself\u001b[39m\u001b[38;5;241m.\u001b[39mdevice,\n\u001b[1;32m    240\u001b[0m )\n\u001b[1;32m    241\u001b[0m \u001b[38;5;28msuper\u001b[39m()\u001b[38;5;241m.\u001b[39m\u001b[38;5;21m__init__\u001b[39m(base_dist, \u001b[38;5;241m1\u001b[39m, validate_args\u001b[38;5;241m=\u001b[39m\u001b[38;5;28;01mFalse\u001b[39;00m)\n",
      "\u001b[0;31mTypeError\u001b[0m: expand_as(): argument 'other' (position 1) must be Tensor, not float"
     ]
    }
   ],
   "source": [
    "from torchrl.modules import TruncatedNormal\n",
    "# from timm.layers.weight_init import trunc_normal_\n",
    "import torch \n",
    "\n",
    "x = torch.randn(32, 3, 256, 256)\n",
    "\n",
    "truncate_normal = TruncatedNormal(x,\n",
    "                                    scale=0.02)\n",
    "print(truncate_normal)"
   ]
  },
  {
   "cell_type": "markdown",
   "id": "26c9e4c4",
   "metadata": {},
   "source": [
    "# dummy time_embedding "
   ]
  },
  {
   "cell_type": "code",
   "execution_count": null,
   "id": "8ccad48e",
   "metadata": {},
   "outputs": [
    {
     "data": {
      "text/plain": [
       "tensor([[-1.0657, -0.2787, -1.2110,  ...,  0.5981, -0.5768, -0.5393],\n",
       "        [ 1.1917, -0.1065,  1.9694,  ..., -0.1435, -1.1355, -0.3291]])"
      ]
     },
     "execution_count": 1,
     "metadata": {},
     "output_type": "execute_result"
    }
   ],
   "source": [
    "import torch \n",
    "\n",
    "\n",
    "# (batch_size, tembedding_channels)\n",
    "temb = torch.randn(2, 512)\n",
    "temb"
   ]
  },
  {
   "cell_type": "code",
   "execution_count": 1,
   "id": "23f46e87",
   "metadata": {},
   "outputs": [
    {
     "data": {
      "text/plain": [
       "(1, 1, 1, 1, 1, 1)"
      ]
     },
     "execution_count": 1,
     "metadata": {},
     "output_type": "execute_result"
    }
   ],
   "source": [
    "(1,) * 6"
   ]
  },
  {
   "cell_type": "markdown",
   "id": "756c5f08",
   "metadata": {},
   "source": [
    "# AdaGroupNorm"
   ]
  },
  {
   "cell_type": "code",
   "execution_count": 55,
   "id": "bf18cb1a",
   "metadata": {},
   "outputs": [
    {
     "data": {
      "text/plain": [
       "torch.Size([2, 128, 64, 64])"
      ]
     },
     "execution_count": 55,
     "metadata": {},
     "output_type": "execute_result"
    }
   ],
   "source": [
    "from diffusers.models.normalization import AdaGroupNorm\n",
    "import torch \n",
    "\n",
    "in_channels = 3\n",
    "out_dim = 128\n",
    "conditional_dim = 256\n",
    "\n",
    "x = torch.randn(2, out_dim,  64, 64)\n",
    "temb = torch.randn(2, conditional_dim)\n",
    "\n",
    "\n",
    "\n",
    "\n",
    "ada_group_normalization = AdaGroupNorm(embedding_dim=256,   # make sure in `embedding_dim` to put the `time_embedding` that is 256 in here.\n",
    "                                       out_dim=128,\n",
    "                                       num_groups=2,\n",
    "                                       eps=1e-6)\n",
    "\n",
    "ada_group_normalization = ada_group_normalization(x, temb)\n",
    "ada_group_normalization.shape"
   ]
  },
  {
   "cell_type": "markdown",
   "id": "93e6d1a1",
   "metadata": {},
   "source": [
    "# SpatialNorm"
   ]
  },
  {
   "cell_type": "code",
   "execution_count": 57,
   "id": "021a094f",
   "metadata": {},
   "outputs": [
    {
     "data": {
      "text/plain": [
       "SpatialNorm(\n",
       "  (norm_layer): GroupNorm(32, 64, eps=1e-06, affine=True)\n",
       "  (conv_y): Conv2d(8, 64, kernel_size=(1, 1), stride=(1, 1))\n",
       "  (conv_b): Conv2d(8, 64, kernel_size=(1, 1), stride=(1, 1))\n",
       ")"
      ]
     },
     "execution_count": 57,
     "metadata": {},
     "output_type": "execute_result"
    }
   ],
   "source": [
    "from diffusers.models.attention_processor import SpatialNorm\n",
    "\n",
    "\n",
    "num_channels = 64\n",
    "zq_channels = 8\n",
    "\n",
    "spatial_norm = SpatialNorm(f_channels=num_channels,\n",
    "                           zq_channels=zq_channels)\n",
    "\n",
    "spatial_norm\n",
    "\n",
    "\n"
   ]
  },
  {
   "cell_type": "markdown",
   "id": "280eea31",
   "metadata": {},
   "source": [
    "# torch.interpolate()"
   ]
  },
  {
   "cell_type": "markdown",
   "id": "e70a0bfe",
   "metadata": {},
   "source": [
    "#### `mode: 'nearest'`"
   ]
  },
  {
   "cell_type": "code",
   "execution_count": 16,
   "id": "58fe52a6",
   "metadata": {},
   "outputs": [
    {
     "data": {
      "text/plain": [
       "torch.Size([32, 3, 1024, 1024])"
      ]
     },
     "execution_count": 16,
     "metadata": {},
     "output_type": "execute_result"
    }
   ],
   "source": [
    "import torch\n",
    "import torch.nn.functional as F\n",
    "\n",
    "# x = torch.rand(1, 1, 2, 2)\n",
    "x = torch.rand(32, 3, 256, 256)\n",
    "\n",
    "nearest_interpolate = F.interpolate(x, \n",
    "                                #  size=(64, 64),\n",
    "                                scale_factor=(4, 4),\n",
    "                                 mode='nearest')\n",
    "nearest_interpolate.shape\n"
   ]
  },
  {
   "cell_type": "markdown",
   "id": "ea65704c",
   "metadata": {},
   "source": [
    "#### `mode: 'Linear'`"
   ]
  },
  {
   "cell_type": "code",
   "execution_count": 39,
   "id": "35fafaea",
   "metadata": {},
   "outputs": [
    {
     "data": {
      "text/plain": [
       "torch.Size([32, 3, 8])"
      ]
     },
     "execution_count": 39,
     "metadata": {},
     "output_type": "execute_result"
    }
   ],
   "source": [
    "# batch_size = 32, channels=3, length=4\n",
    "x_linear = torch.randn(32, 3, 4)\n",
    "\n",
    "\n",
    "\n",
    "\n",
    "linear_interpolate = F.interpolate(x_linear,\n",
    "                                   size=8,\n",
    "                                   mode='linear',\n",
    "                                   align_corners=False  # a/c to pytorch library\n",
    "                                   )\n",
    "\n",
    "linear_interpolate.shape\n",
    "\n"
   ]
  },
  {
   "cell_type": "markdown",
   "id": "d6a319f7",
   "metadata": {},
   "source": [
    "#### `mode: 'BiLinear'`"
   ]
  },
  {
   "cell_type": "code",
   "execution_count": 43,
   "id": "67bac6f0",
   "metadata": {},
   "outputs": [
    {
     "data": {
      "text/plain": [
       "torch.Size([32, 3, 64, 64])"
      ]
     },
     "execution_count": 43,
     "metadata": {},
     "output_type": "execute_result"
    }
   ],
   "source": [
    "\n",
    "bilinear_interpolate = F.interpolate(x,\n",
    "                                     size=(64, 64),\n",
    "                                     mode='bilinear')\n",
    "bilinear_interpolate.shape"
   ]
  },
  {
   "cell_type": "code",
   "execution_count": null,
   "id": "fa48f8aa",
   "metadata": {},
   "outputs": [],
   "source": []
  }
 ],
 "metadata": {
  "kernelspec": {
   "display_name": "cuda121",
   "language": "python",
   "name": "python3"
  },
  "language_info": {
   "codemirror_mode": {
    "name": "ipython",
    "version": 3
   },
   "file_extension": ".py",
   "mimetype": "text/x-python",
   "name": "python",
   "nbconvert_exporter": "python",
   "pygments_lexer": "ipython3",
   "version": "3.10.16"
  }
 },
 "nbformat": 4,
 "nbformat_minor": 5
}
